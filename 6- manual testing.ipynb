{
 "cells": [
  {
   "cell_type": "code",
   "execution_count": 1,
   "metadata": {
    "colab": {
     "base_uri": "https://localhost:8080/",
     "height": 423
    },
    "executionInfo": {
     "elapsed": 1124,
     "status": "ok",
     "timestamp": 1692603367463,
     "user": {
      "displayName": "Jada Projects",
      "userId": "13935386077665551865"
     },
     "user_tz": -330
    },
    "id": "G4p-yhGzYsjb",
    "outputId": "5a4baade-d614-4f63-ecec-6eebf25d89dd"
   },
   "outputs": [
    {
     "data": {
      "text/html": [
       "\n",
       "  <div id=\"df-b4ac8d69-3ae2-4462-964d-76e48d3710b5\" class=\"colab-df-container\">\n",
       "    <div>\n",
       "<style scoped>\n",
       "    .dataframe tbody tr th:only-of-type {\n",
       "        vertical-align: middle;\n",
       "    }\n",
       "\n",
       "    .dataframe tbody tr th {\n",
       "        vertical-align: top;\n",
       "    }\n",
       "\n",
       "    .dataframe thead th {\n",
       "        text-align: right;\n",
       "    }\n",
       "</style>\n",
       "<table border=\"1\" class=\"dataframe\">\n",
       "  <thead>\n",
       "    <tr style=\"text-align: right;\">\n",
       "      <th></th>\n",
       "      <th>Advertisements</th>\n",
       "      <th>Category</th>\n",
       "    </tr>\n",
       "  </thead>\n",
       "  <tbody>\n",
       "    <tr>\n",
       "      <th>0</th>\n",
       "      <td>seeking models publication major men adult mag...</td>\n",
       "      <td>Illegitimate</td>\n",
       "    </tr>\n",
       "    <tr>\n",
       "      <th>1</th>\n",
       "      <td>seek reliable models experiences art nude erot...</td>\n",
       "      <td>Illegitimate</td>\n",
       "    </tr>\n",
       "    <tr>\n",
       "      <th>2</th>\n",
       "      <td>looking new existing talent appear variety mod...</td>\n",
       "      <td>Illegitimate</td>\n",
       "    </tr>\n",
       "    <tr>\n",
       "      <th>3</th>\n",
       "      <td>looking female models adult themed shoots prov...</td>\n",
       "      <td>Illegitimate</td>\n",
       "    </tr>\n",
       "    <tr>\n",
       "      <th>4</th>\n",
       "      <td>established photo video professional looking n...</td>\n",
       "      <td>Illegitimate</td>\n",
       "    </tr>\n",
       "    <tr>\n",
       "      <th>...</th>\n",
       "      <td>...</td>\n",
       "      <td>...</td>\n",
       "    </tr>\n",
       "    <tr>\n",
       "      <th>205</th>\n",
       "      <td>essity global company paving way towards digit...</td>\n",
       "      <td>Legitimate</td>\n",
       "    </tr>\n",
       "    <tr>\n",
       "      <th>206</th>\n",
       "      <td>role dedicated lead management nurturing leads...</td>\n",
       "      <td>Legitimate</td>\n",
       "    </tr>\n",
       "    <tr>\n",
       "      <th>207</th>\n",
       "      <td>primary function accountant reporting assist a...</td>\n",
       "      <td>Legitimate</td>\n",
       "    </tr>\n",
       "    <tr>\n",
       "      <th>208</th>\n",
       "      <td>essity leading global hygiene health company d...</td>\n",
       "      <td>Legitimate</td>\n",
       "    </tr>\n",
       "    <tr>\n",
       "      <th>209</th>\n",
       "      <td>fe fundinfo global leader investment fund data...</td>\n",
       "      <td>Legitimate</td>\n",
       "    </tr>\n",
       "  </tbody>\n",
       "</table>\n",
       "<p>210 rows × 2 columns</p>\n",
       "</div>\n",
       "    <div class=\"colab-df-buttons\">\n",
       "\n",
       "  <div class=\"colab-df-container\">\n",
       "    <button class=\"colab-df-convert\" onclick=\"convertToInteractive('df-b4ac8d69-3ae2-4462-964d-76e48d3710b5')\"\n",
       "            title=\"Convert this dataframe to an interactive table.\"\n",
       "            style=\"display:none;\">\n",
       "\n",
       "  <svg xmlns=\"http://www.w3.org/2000/svg\" height=\"24px\" viewBox=\"0 -960 960 960\">\n",
       "    <path d=\"M120-120v-720h720v720H120Zm60-500h600v-160H180v160Zm220 220h160v-160H400v160Zm0 220h160v-160H400v160ZM180-400h160v-160H180v160Zm440 0h160v-160H620v160ZM180-180h160v-160H180v160Zm440 0h160v-160H620v160Z\"/>\n",
       "  </svg>\n",
       "    </button>\n",
       "\n",
       "  <style>\n",
       "    .colab-df-container {\n",
       "      display:flex;\n",
       "      gap: 12px;\n",
       "    }\n",
       "\n",
       "    .colab-df-convert {\n",
       "      background-color: #E8F0FE;\n",
       "      border: none;\n",
       "      border-radius: 50%;\n",
       "      cursor: pointer;\n",
       "      display: none;\n",
       "      fill: #1967D2;\n",
       "      height: 32px;\n",
       "      padding: 0 0 0 0;\n",
       "      width: 32px;\n",
       "    }\n",
       "\n",
       "    .colab-df-convert:hover {\n",
       "      background-color: #E2EBFA;\n",
       "      box-shadow: 0px 1px 2px rgba(60, 64, 67, 0.3), 0px 1px 3px 1px rgba(60, 64, 67, 0.15);\n",
       "      fill: #174EA6;\n",
       "    }\n",
       "\n",
       "    .colab-df-buttons div {\n",
       "      margin-bottom: 4px;\n",
       "    }\n",
       "\n",
       "    [theme=dark] .colab-df-convert {\n",
       "      background-color: #3B4455;\n",
       "      fill: #D2E3FC;\n",
       "    }\n",
       "\n",
       "    [theme=dark] .colab-df-convert:hover {\n",
       "      background-color: #434B5C;\n",
       "      box-shadow: 0px 1px 3px 1px rgba(0, 0, 0, 0.15);\n",
       "      filter: drop-shadow(0px 1px 2px rgba(0, 0, 0, 0.3));\n",
       "      fill: #FFFFFF;\n",
       "    }\n",
       "  </style>\n",
       "\n",
       "    <script>\n",
       "      const buttonEl =\n",
       "        document.querySelector('#df-b4ac8d69-3ae2-4462-964d-76e48d3710b5 button.colab-df-convert');\n",
       "      buttonEl.style.display =\n",
       "        google.colab.kernel.accessAllowed ? 'block' : 'none';\n",
       "\n",
       "      async function convertToInteractive(key) {\n",
       "        const element = document.querySelector('#df-b4ac8d69-3ae2-4462-964d-76e48d3710b5');\n",
       "        const dataTable =\n",
       "          await google.colab.kernel.invokeFunction('convertToInteractive',\n",
       "                                                    [key], {});\n",
       "        if (!dataTable) return;\n",
       "\n",
       "        const docLinkHtml = 'Like what you see? Visit the ' +\n",
       "          '<a target=\"_blank\" href=https://colab.research.google.com/notebooks/data_table.ipynb>data table notebook</a>'\n",
       "          + ' to learn more about interactive tables.';\n",
       "        element.innerHTML = '';\n",
       "        dataTable['output_type'] = 'display_data';\n",
       "        await google.colab.output.renderOutput(dataTable, element);\n",
       "        const docLink = document.createElement('div');\n",
       "        docLink.innerHTML = docLinkHtml;\n",
       "        element.appendChild(docLink);\n",
       "      }\n",
       "    </script>\n",
       "  </div>\n",
       "\n",
       "\n",
       "<div id=\"df-b6b639dd-48b3-440c-9cf9-2f655bd6652a\">\n",
       "  <button class=\"colab-df-quickchart\" onclick=\"quickchart('df-b6b639dd-48b3-440c-9cf9-2f655bd6652a')\"\n",
       "            title=\"Suggest charts.\"\n",
       "            style=\"display:none;\">\n",
       "\n",
       "<svg xmlns=\"http://www.w3.org/2000/svg\" height=\"24px\"viewBox=\"0 0 24 24\"\n",
       "     width=\"24px\">\n",
       "    <g>\n",
       "        <path d=\"M19 3H5c-1.1 0-2 .9-2 2v14c0 1.1.9 2 2 2h14c1.1 0 2-.9 2-2V5c0-1.1-.9-2-2-2zM9 17H7v-7h2v7zm4 0h-2V7h2v10zm4 0h-2v-4h2v4z\"/>\n",
       "    </g>\n",
       "</svg>\n",
       "  </button>\n",
       "\n",
       "<style>\n",
       "  .colab-df-quickchart {\n",
       "    background-color: #E8F0FE;\n",
       "    border: none;\n",
       "    border-radius: 50%;\n",
       "    cursor: pointer;\n",
       "    display: none;\n",
       "    fill: #1967D2;\n",
       "    height: 32px;\n",
       "    padding: 0 0 0 0;\n",
       "    width: 32px;\n",
       "  }\n",
       "\n",
       "  .colab-df-quickchart:hover {\n",
       "    background-color: #E2EBFA;\n",
       "    box-shadow: 0px 1px 2px rgba(60, 64, 67, 0.3), 0px 1px 3px 1px rgba(60, 64, 67, 0.15);\n",
       "    fill: #174EA6;\n",
       "  }\n",
       "\n",
       "  [theme=dark] .colab-df-quickchart {\n",
       "    background-color: #3B4455;\n",
       "    fill: #D2E3FC;\n",
       "  }\n",
       "\n",
       "  [theme=dark] .colab-df-quickchart:hover {\n",
       "    background-color: #434B5C;\n",
       "    box-shadow: 0px 1px 3px 1px rgba(0, 0, 0, 0.15);\n",
       "    filter: drop-shadow(0px 1px 2px rgba(0, 0, 0, 0.3));\n",
       "    fill: #FFFFFF;\n",
       "  }\n",
       "</style>\n",
       "\n",
       "  <script>\n",
       "    async function quickchart(key) {\n",
       "      const charts = await google.colab.kernel.invokeFunction(\n",
       "          'suggestCharts', [key], {});\n",
       "    }\n",
       "    (() => {\n",
       "      let quickchartButtonEl =\n",
       "        document.querySelector('#df-b6b639dd-48b3-440c-9cf9-2f655bd6652a button');\n",
       "      quickchartButtonEl.style.display =\n",
       "        google.colab.kernel.accessAllowed ? 'block' : 'none';\n",
       "    })();\n",
       "  </script>\n",
       "</div>\n",
       "    </div>\n",
       "  </div>\n"
      ],
      "text/plain": [
       "                                       Advertisements     Category   \n",
       "0    seeking models publication major men adult mag...  Illegitimate \n",
       "1    seek reliable models experiences art nude erot...  Illegitimate \n",
       "2    looking new existing talent appear variety mod...  Illegitimate \n",
       "3    looking female models adult themed shoots prov...  Illegitimate \n",
       "4    established photo video professional looking n...  Illegitimate \n",
       "..                                                 ...            ...\n",
       "205  essity global company paving way towards digit...    Legitimate \n",
       "206  role dedicated lead management nurturing leads...    Legitimate \n",
       "207  primary function accountant reporting assist a...    Legitimate \n",
       "208  essity leading global hygiene health company d...    Legitimate \n",
       "209  fe fundinfo global leader investment fund data...    Legitimate \n",
       "\n",
       "[210 rows x 2 columns]"
      ]
     },
     "execution_count": 1,
     "metadata": {},
     "output_type": "execute_result"
    }
   ],
   "source": [
    "import pandas as obsen_jbS\n",
    "obsen_jb = obsen_jbS.read_csv('obsen_jb_NLP.csv')\n",
    "obsen_jb"
   ]
  },
  {
   "cell_type": "code",
   "execution_count": 2,
   "metadata": {
    "colab": {
     "base_uri": "https://localhost:8080/",
     "height": 36
    },
    "executionInfo": {
     "elapsed": 107,
     "status": "ok",
     "timestamp": 1692603367466,
     "user": {
      "displayName": "Jada Projects",
      "userId": "13935386077665551865"
     },
     "user_tz": -330
    },
    "id": "FEF6xaM83P8H",
    "outputId": "f75a1e98-66b7-49cc-afbf-7158515cf9b7"
   },
   "outputs": [
    {
     "data": {
      "application/vnd.google.colaboratory.intrinsic+json": {
       "type": "string"
      },
      "text/plain": [
       "'models amateur pro wide variety modeling jobs available serious applicants please'"
      ]
     },
     "execution_count": 2,
     "metadata": {},
     "output_type": "execute_result"
    }
   ],
   "source": [
    "obsen_jb['Advertisements '][98]"
   ]
  },
  {
   "cell_type": "code",
   "execution_count": 3,
   "metadata": {
    "colab": {
     "base_uri": "https://localhost:8080/"
    },
    "executionInfo": {
     "elapsed": 103,
     "status": "ok",
     "timestamp": 1692603367470,
     "user": {
      "displayName": "Jada Projects",
      "userId": "13935386077665551865"
     },
     "user_tz": -330
    },
    "id": "evsJ5GR2ZjLd",
    "outputId": "787f3f09-7ef0-4239-a032-855b8a79895a"
   },
   "outputs": [
    {
     "data": {
      "text/plain": [
       "(210, 8)"
      ]
     },
     "execution_count": 3,
     "metadata": {},
     "output_type": "execute_result"
    }
   ],
   "source": [
    "import warnings as obsen_wng\n",
    "obsen_wng.filterwarnings(\"ignore\")\n",
    "from sklearn.feature_extraction.text import TfidfVectorizer as obsen_jb_TFVEC\n",
    "\n",
    "obsen_jbX = obsen_jb.drop('Category   ',axis=1)\n",
    "obsen_jbY = obsen_jb['Category   ']\n",
    "obsen_jb_TFVEC = obsen_jb_TFVEC(analyzer='char', ngram_range= (1,1))\n",
    "obsen_jbX = obsen_jb_TFVEC.fit_transform(obsen_jb['Category   '].values.astype('U')).toarray()\n",
    "obsen_jbX.shape"
   ]
  },
  {
   "cell_type": "code",
   "execution_count": 4,
   "metadata": {
    "colab": {
     "base_uri": "https://localhost:8080/"
    },
    "executionInfo": {
     "elapsed": 75,
     "status": "ok",
     "timestamp": 1692603367472,
     "user": {
      "displayName": "Jada Projects",
      "userId": "13935386077665551865"
     },
     "user_tz": -330
    },
    "id": "ADooxAIHZjO7",
    "outputId": "cb8b5421-1ea6-452b-f8fa-12733b4aae5c"
   },
   "outputs": [
    {
     "data": {
      "text/plain": [
       "array([[0.2       , 0.2       , 0.4       , ..., 0.4       , 0.2       ,\n",
       "        0.4       ],\n",
       "       [0.2       , 0.2       , 0.4       , ..., 0.4       , 0.2       ,\n",
       "        0.4       ],\n",
       "       [0.2       , 0.2       , 0.4       , ..., 0.4       , 0.2       ,\n",
       "        0.4       ],\n",
       "       ...,\n",
       "       [0.24253563, 0.24253563, 0.48507125, ..., 0.24253563, 0.24253563,\n",
       "        0.48507125],\n",
       "       [0.24253563, 0.24253563, 0.48507125, ..., 0.24253563, 0.24253563,\n",
       "        0.48507125],\n",
       "       [0.24253563, 0.24253563, 0.48507125, ..., 0.24253563, 0.24253563,\n",
       "        0.48507125]])"
      ]
     },
     "execution_count": 4,
     "metadata": {},
     "output_type": "execute_result"
    }
   ],
   "source": [
    "obsen_jbX"
   ]
  },
  {
   "cell_type": "code",
   "execution_count": 5,
   "metadata": {
    "colab": {
     "base_uri": "https://localhost:8080/"
    },
    "executionInfo": {
     "elapsed": 63,
     "status": "ok",
     "timestamp": 1692603367476,
     "user": {
      "displayName": "Jada Projects",
      "userId": "13935386077665551865"
     },
     "user_tz": -330
    },
    "id": "ToAUmVJUZjRa",
    "outputId": "6fcb680d-500a-409c-d063-6caca2ca9abd"
   },
   "outputs": [
    {
     "data": {
      "text/plain": [
       "(210,)"
      ]
     },
     "execution_count": 5,
     "metadata": {},
     "output_type": "execute_result"
    }
   ],
   "source": [
    "obsen_jbY.shape"
   ]
  },
  {
   "cell_type": "code",
   "execution_count": 6,
   "metadata": {
    "executionInfo": {
     "elapsed": 54,
     "status": "ok",
     "timestamp": 1692603367478,
     "user": {
      "displayName": "Jada Projects",
      "userId": "13935386077665551865"
     },
     "user_tz": -330
    },
    "id": "l9sBkDWg68JL"
   },
   "outputs": [],
   "source": [
    "from sklearn.metrics import classification_report as obsen_jb_CL\n",
    "from sklearn.metrics import confusion_matrix as obsen_jbCMX\n",
    "from sklearn.metrics import ConfusionMatrixDisplay as obsen_jbDSP"
   ]
  },
  {
   "cell_type": "markdown",
   "metadata": {
    "id": "l7V6YEnJ6z9U"
   },
   "source": [
    "### Testing with Bagging model"
   ]
  },
  {
   "cell_type": "code",
   "execution_count": 7,
   "metadata": {
    "colab": {
     "base_uri": "https://localhost:8080/",
     "height": 74
    },
    "executionInfo": {
     "elapsed": 64,
     "status": "ok",
     "timestamp": 1692603367489,
     "user": {
      "displayName": "Jada Projects",
      "userId": "13935386077665551865"
     },
     "user_tz": -330
    },
    "id": "bEbCWgey646M",
    "outputId": "c67e3e31-a657-494c-c103-8927a26cbd1b"
   },
   "outputs": [
    {
     "data": {
      "text/html": [
       "<style>#sk-container-id-1 {color: black;background-color: white;}#sk-container-id-1 pre{padding: 0;}#sk-container-id-1 div.sk-toggleable {background-color: white;}#sk-container-id-1 label.sk-toggleable__label {cursor: pointer;display: block;width: 100%;margin-bottom: 0;padding: 0.3em;box-sizing: border-box;text-align: center;}#sk-container-id-1 label.sk-toggleable__label-arrow:before {content: \"▸\";float: left;margin-right: 0.25em;color: #696969;}#sk-container-id-1 label.sk-toggleable__label-arrow:hover:before {color: black;}#sk-container-id-1 div.sk-estimator:hover label.sk-toggleable__label-arrow:before {color: black;}#sk-container-id-1 div.sk-toggleable__content {max-height: 0;max-width: 0;overflow: hidden;text-align: left;background-color: #f0f8ff;}#sk-container-id-1 div.sk-toggleable__content pre {margin: 0.2em;color: black;border-radius: 0.25em;background-color: #f0f8ff;}#sk-container-id-1 input.sk-toggleable__control:checked~div.sk-toggleable__content {max-height: 200px;max-width: 100%;overflow: auto;}#sk-container-id-1 input.sk-toggleable__control:checked~label.sk-toggleable__label-arrow:before {content: \"▾\";}#sk-container-id-1 div.sk-estimator input.sk-toggleable__control:checked~label.sk-toggleable__label {background-color: #d4ebff;}#sk-container-id-1 div.sk-label input.sk-toggleable__control:checked~label.sk-toggleable__label {background-color: #d4ebff;}#sk-container-id-1 input.sk-hidden--visually {border: 0;clip: rect(1px 1px 1px 1px);clip: rect(1px, 1px, 1px, 1px);height: 1px;margin: -1px;overflow: hidden;padding: 0;position: absolute;width: 1px;}#sk-container-id-1 div.sk-estimator {font-family: monospace;background-color: #f0f8ff;border: 1px dotted black;border-radius: 0.25em;box-sizing: border-box;margin-bottom: 0.5em;}#sk-container-id-1 div.sk-estimator:hover {background-color: #d4ebff;}#sk-container-id-1 div.sk-parallel-item::after {content: \"\";width: 100%;border-bottom: 1px solid gray;flex-grow: 1;}#sk-container-id-1 div.sk-label:hover label.sk-toggleable__label {background-color: #d4ebff;}#sk-container-id-1 div.sk-serial::before {content: \"\";position: absolute;border-left: 1px solid gray;box-sizing: border-box;top: 0;bottom: 0;left: 50%;z-index: 0;}#sk-container-id-1 div.sk-serial {display: flex;flex-direction: column;align-items: center;background-color: white;padding-right: 0.2em;padding-left: 0.2em;position: relative;}#sk-container-id-1 div.sk-item {position: relative;z-index: 1;}#sk-container-id-1 div.sk-parallel {display: flex;align-items: stretch;justify-content: center;background-color: white;position: relative;}#sk-container-id-1 div.sk-item::before, #sk-container-id-1 div.sk-parallel-item::before {content: \"\";position: absolute;border-left: 1px solid gray;box-sizing: border-box;top: 0;bottom: 0;left: 50%;z-index: -1;}#sk-container-id-1 div.sk-parallel-item {display: flex;flex-direction: column;z-index: 1;position: relative;background-color: white;}#sk-container-id-1 div.sk-parallel-item:first-child::after {align-self: flex-end;width: 50%;}#sk-container-id-1 div.sk-parallel-item:last-child::after {align-self: flex-start;width: 50%;}#sk-container-id-1 div.sk-parallel-item:only-child::after {width: 0;}#sk-container-id-1 div.sk-dashed-wrapped {border: 1px dashed gray;margin: 0 0.4em 0.5em 0.4em;box-sizing: border-box;padding-bottom: 0.4em;background-color: white;}#sk-container-id-1 div.sk-label label {font-family: monospace;font-weight: bold;display: inline-block;line-height: 1.2em;}#sk-container-id-1 div.sk-label-container {text-align: center;}#sk-container-id-1 div.sk-container {/* jupyter's `normalize.less` sets `[hidden] { display: none; }` but bootstrap.min.css set `[hidden] { display: none !important; }` so we also need the `!important` here to be able to override the default hidden behavior on the sphinx rendered scikit-learn.org. See: https://github.com/scikit-learn/scikit-learn/issues/21755 */display: inline-block !important;position: relative;}#sk-container-id-1 div.sk-text-repr-fallback {display: none;}</style><div id=\"sk-container-id-1\" class=\"sk-top-container\"><div class=\"sk-text-repr-fallback\"><pre>BaggingClassifier(max_features=0.1, max_samples=0.1, n_estimators=1, n_jobs=1)</pre><b>In a Jupyter environment, please rerun this cell to show the HTML representation or trust the notebook. <br />On GitHub, the HTML representation is unable to render, please try loading this page with nbviewer.org.</b></div><div class=\"sk-container\" hidden><div class=\"sk-item\"><div class=\"sk-estimator sk-toggleable\"><input class=\"sk-toggleable__control sk-hidden--visually\" id=\"sk-estimator-id-1\" type=\"checkbox\" checked><label for=\"sk-estimator-id-1\" class=\"sk-toggleable__label sk-toggleable__label-arrow\">BaggingClassifier</label><div class=\"sk-toggleable__content\"><pre>BaggingClassifier(max_features=0.1, max_samples=0.1, n_estimators=1, n_jobs=1)</pre></div></div></div></div></div>"
      ],
      "text/plain": [
       "BaggingClassifier(max_features=0.1, max_samples=0.1, n_estimators=1, n_jobs=1)"
      ]
     },
     "execution_count": 7,
     "metadata": {},
     "output_type": "execute_result"
    }
   ],
   "source": [
    "from sklearn.ensemble import BaggingClassifier as obsen_jb_BgC\n",
    "\n",
    "obsen_M1 = obsen_jb_BgC(max_features=0.1, max_samples=0.1, n_estimators=1, n_jobs=1)\n",
    "obsen_M1.fit(obsen_jbX, obsen_jbY)"
   ]
  },
  {
   "cell_type": "markdown",
   "metadata": {
    "id": "WCSKFYJW8EG6"
   },
   "source": [
    "** Test case-1"
   ]
  },
  {
   "cell_type": "code",
   "execution_count": 8,
   "metadata": {
    "colab": {
     "base_uri": "https://localhost:8080/"
    },
    "executionInfo": {
     "elapsed": 13,
     "status": "ok",
     "timestamp": 1692603372366,
     "user": {
      "displayName": "Jada Projects",
      "userId": "13935386077665551865"
     },
     "user_tz": -330
    },
    "id": "6lp7xAEq77kF",
    "outputId": "b167b9df-b8dd-4bf0-f904-22e79ee41b6b"
   },
   "outputs": [
    {
     "name": "stdout",
     "output_type": "stream",
     "text": [
      "Not a obsence job\n"
     ]
    }
   ],
   "source": [
    "# manual input for testing\n",
    "\n",
    "job_post= ['Container One is in the Shipping Container/ Shipping Container Accessory/ Portable Storage Container Industries. We specialize in the sale, rent-to-own, and modification of shipping containers for various purposes, such as storage, offices, housing, and more. And we serve 3 markets: Commercial, Residential, and Agriculture. We have simplified the ordering process through our website and ecommerce platform. Containers are in high demand and we provide all the tools you will need to have a successful career.']\n",
    "job_post_in = obsen_jb_TFVEC.transform(job_post).toarray()\n",
    "\n",
    "obsen_PR=obsen_M1.predict(job_post_in)\n",
    "if obsen_PR=='Legitimate ':\n",
    "  print('Not a obsence job')\n",
    "else:\n",
    "  print('Obsence job')"
   ]
  },
  {
   "cell_type": "markdown",
   "metadata": {
    "id": "O6cRpjr3-MiP"
   },
   "source": [
    "** Test case-2"
   ]
  },
  {
   "cell_type": "code",
   "execution_count": 17,
   "metadata": {
    "colab": {
     "base_uri": "https://localhost:8080/"
    },
    "executionInfo": {
     "elapsed": 479,
     "status": "ok",
     "timestamp": 1692603520160,
     "user": {
      "displayName": "Jada Projects",
      "userId": "13935386077665551865"
     },
     "user_tz": -330
    },
    "id": "z-yyWAZH784f",
    "outputId": "be261d2b-c4bb-4531-9e67-7c44dc501500"
   },
   "outputs": [
    {
     "name": "stdout",
     "output_type": "stream",
     "text": [
      "Obsence job\n"
     ]
    }
   ],
   "source": [
    "# manual input for testing\n",
    "\n",
    "job_post= [\"Woman wanted for a SOLO, photo/video combo shoot. The content will include explicit nude through solo penetration. Ideally looking for 18-40yrs old and either Petite or tall and athletic. No bbw/thicc/pawg. Any race welcome to apply. Location is in Wilkes-Barre, PA, with a WEEKDAY AFTERNOON call time, first week of June. Accepting apps until 5/1. Text or email. $750-$1000, approx 3-4hr. Travel expenses are covered in the total pay.\"]\n",
    "job_post_in = obsen_jb_TFVEC.transform(job_post).toarray()\n",
    "\n",
    "obsen_PR=obsen_M1.predict(job_post_in)\n",
    "if obsen_PR=='Legitimate ':\n",
    "  print('Not a obsence job')\n",
    "else:\n",
    "  print('Obsence job')"
   ]
  },
  {
   "cell_type": "markdown",
   "metadata": {
    "id": "Jh48zR-z-83E"
   },
   "source": [
    "### Testing with gaussian naive bayes model"
   ]
  },
  {
   "cell_type": "code",
   "execution_count": 18,
   "metadata": {
    "colab": {
     "base_uri": "https://localhost:8080/",
     "height": 74
    },
    "executionInfo": {
     "elapsed": 503,
     "status": "ok",
     "timestamp": 1692603529024,
     "user": {
      "displayName": "Jada Projects",
      "userId": "13935386077665551865"
     },
     "user_tz": -330
    },
    "id": "MfYdAByd-_g3",
    "outputId": "d97247b6-cf86-48fb-fe61-050307be2b78"
   },
   "outputs": [
    {
     "data": {
      "text/html": [
       "<style>#sk-container-id-2 {color: black;background-color: white;}#sk-container-id-2 pre{padding: 0;}#sk-container-id-2 div.sk-toggleable {background-color: white;}#sk-container-id-2 label.sk-toggleable__label {cursor: pointer;display: block;width: 100%;margin-bottom: 0;padding: 0.3em;box-sizing: border-box;text-align: center;}#sk-container-id-2 label.sk-toggleable__label-arrow:before {content: \"▸\";float: left;margin-right: 0.25em;color: #696969;}#sk-container-id-2 label.sk-toggleable__label-arrow:hover:before {color: black;}#sk-container-id-2 div.sk-estimator:hover label.sk-toggleable__label-arrow:before {color: black;}#sk-container-id-2 div.sk-toggleable__content {max-height: 0;max-width: 0;overflow: hidden;text-align: left;background-color: #f0f8ff;}#sk-container-id-2 div.sk-toggleable__content pre {margin: 0.2em;color: black;border-radius: 0.25em;background-color: #f0f8ff;}#sk-container-id-2 input.sk-toggleable__control:checked~div.sk-toggleable__content {max-height: 200px;max-width: 100%;overflow: auto;}#sk-container-id-2 input.sk-toggleable__control:checked~label.sk-toggleable__label-arrow:before {content: \"▾\";}#sk-container-id-2 div.sk-estimator input.sk-toggleable__control:checked~label.sk-toggleable__label {background-color: #d4ebff;}#sk-container-id-2 div.sk-label input.sk-toggleable__control:checked~label.sk-toggleable__label {background-color: #d4ebff;}#sk-container-id-2 input.sk-hidden--visually {border: 0;clip: rect(1px 1px 1px 1px);clip: rect(1px, 1px, 1px, 1px);height: 1px;margin: -1px;overflow: hidden;padding: 0;position: absolute;width: 1px;}#sk-container-id-2 div.sk-estimator {font-family: monospace;background-color: #f0f8ff;border: 1px dotted black;border-radius: 0.25em;box-sizing: border-box;margin-bottom: 0.5em;}#sk-container-id-2 div.sk-estimator:hover {background-color: #d4ebff;}#sk-container-id-2 div.sk-parallel-item::after {content: \"\";width: 100%;border-bottom: 1px solid gray;flex-grow: 1;}#sk-container-id-2 div.sk-label:hover label.sk-toggleable__label {background-color: #d4ebff;}#sk-container-id-2 div.sk-serial::before {content: \"\";position: absolute;border-left: 1px solid gray;box-sizing: border-box;top: 0;bottom: 0;left: 50%;z-index: 0;}#sk-container-id-2 div.sk-serial {display: flex;flex-direction: column;align-items: center;background-color: white;padding-right: 0.2em;padding-left: 0.2em;position: relative;}#sk-container-id-2 div.sk-item {position: relative;z-index: 1;}#sk-container-id-2 div.sk-parallel {display: flex;align-items: stretch;justify-content: center;background-color: white;position: relative;}#sk-container-id-2 div.sk-item::before, #sk-container-id-2 div.sk-parallel-item::before {content: \"\";position: absolute;border-left: 1px solid gray;box-sizing: border-box;top: 0;bottom: 0;left: 50%;z-index: -1;}#sk-container-id-2 div.sk-parallel-item {display: flex;flex-direction: column;z-index: 1;position: relative;background-color: white;}#sk-container-id-2 div.sk-parallel-item:first-child::after {align-self: flex-end;width: 50%;}#sk-container-id-2 div.sk-parallel-item:last-child::after {align-self: flex-start;width: 50%;}#sk-container-id-2 div.sk-parallel-item:only-child::after {width: 0;}#sk-container-id-2 div.sk-dashed-wrapped {border: 1px dashed gray;margin: 0 0.4em 0.5em 0.4em;box-sizing: border-box;padding-bottom: 0.4em;background-color: white;}#sk-container-id-2 div.sk-label label {font-family: monospace;font-weight: bold;display: inline-block;line-height: 1.2em;}#sk-container-id-2 div.sk-label-container {text-align: center;}#sk-container-id-2 div.sk-container {/* jupyter's `normalize.less` sets `[hidden] { display: none; }` but bootstrap.min.css set `[hidden] { display: none !important; }` so we also need the `!important` here to be able to override the default hidden behavior on the sphinx rendered scikit-learn.org. See: https://github.com/scikit-learn/scikit-learn/issues/21755 */display: inline-block !important;position: relative;}#sk-container-id-2 div.sk-text-repr-fallback {display: none;}</style><div id=\"sk-container-id-2\" class=\"sk-top-container\"><div class=\"sk-text-repr-fallback\"><pre>GaussianNB()</pre><b>In a Jupyter environment, please rerun this cell to show the HTML representation or trust the notebook. <br />On GitHub, the HTML representation is unable to render, please try loading this page with nbviewer.org.</b></div><div class=\"sk-container\" hidden><div class=\"sk-item\"><div class=\"sk-estimator sk-toggleable\"><input class=\"sk-toggleable__control sk-hidden--visually\" id=\"sk-estimator-id-2\" type=\"checkbox\" checked><label for=\"sk-estimator-id-2\" class=\"sk-toggleable__label sk-toggleable__label-arrow\">GaussianNB</label><div class=\"sk-toggleable__content\"><pre>GaussianNB()</pre></div></div></div></div></div>"
      ],
      "text/plain": [
       "GaussianNB()"
      ]
     },
     "execution_count": 18,
     "metadata": {},
     "output_type": "execute_result"
    }
   ],
   "source": [
    "from sklearn.naive_bayes import GaussianNB as obsen_jb_GAUNB\n",
    "\n",
    "obsen_M2 = obsen_jb_GAUNB(priors=None, var_smoothing=1e-09)\n",
    "obsen_M2.fit(obsen_jbX, obsen_jbY)"
   ]
  },
  {
   "cell_type": "markdown",
   "metadata": {
    "id": "xSjQtsjf_qMa"
   },
   "source": [
    "** Test case-1"
   ]
  },
  {
   "cell_type": "code",
   "execution_count": 19,
   "metadata": {
    "colab": {
     "base_uri": "https://localhost:8080/"
    },
    "executionInfo": {
     "elapsed": 476,
     "status": "ok",
     "timestamp": 1692603531635,
     "user": {
      "displayName": "Jada Projects",
      "userId": "13935386077665551865"
     },
     "user_tz": -330
    },
    "id": "7Ij3b3QR-_kA",
    "outputId": "9bef1dce-3043-4c60-8ceb-ad41a1b7c6da"
   },
   "outputs": [
    {
     "name": "stdout",
     "output_type": "stream",
     "text": [
      "Not a obsence job\n"
     ]
    }
   ],
   "source": [
    "# manual input for testing\n",
    "\n",
    "job_post= ['Container One is in the Shipping Container/ Shipping Container Accessory/ Portable Storage Container Industries. We specialize in the sale, rent-to-own, and modification of shipping containers for various purposes, such as storage, offices, housing, and more. And we serve 3 markets: Commercial, Residential, and Agriculture. We have simplified the ordering process through our website and ecommerce platform. Containers are in high demand and we provide all the tools you will need to have a successful career.']\n",
    "job_post_in = obsen_jb_TFVEC.transform(job_post).toarray()\n",
    "\n",
    "obsen_PR= obsen_M2.predict(job_post_in)\n",
    "if obsen_PR=='Legitimate ':\n",
    "  print('Not a obsence job')\n",
    "else:\n",
    "  print('Obsence job')"
   ]
  },
  {
   "cell_type": "markdown",
   "metadata": {
    "id": "6l8i4Wul_q97"
   },
   "source": [
    "** Test case-2"
   ]
  },
  {
   "cell_type": "code",
   "execution_count": 39,
   "metadata": {
    "colab": {
     "base_uri": "https://localhost:8080/"
    },
    "executionInfo": {
     "elapsed": 13,
     "status": "ok",
     "timestamp": 1692603715623,
     "user": {
      "displayName": "Jada Projects",
      "userId": "13935386077665551865"
     },
     "user_tz": -330
    },
    "id": "0_0b0zHx-_vY",
    "outputId": "8b0b872c-3b8a-4a4d-f15d-6f24537a42a7"
   },
   "outputs": [
    {
     "name": "stdout",
     "output_type": "stream",
     "text": [
      "Not a obsence job\n"
     ]
    }
   ],
   "source": [
    "# manual input for testing\n",
    "\n",
    "job_post= [\"Seeking females 18-55 for fetish modeling. Oral skills, nipple piercings, squirting and exhibitionism are a huge plus. Compensation is great and the work is steady. Confidentially assured as well if needed. No professional experience is required as we provide sets/ props and guidance. Earn while working in a safe fun environment!\"]\n",
    "job_post_in = obsen_jb_TFVEC.transform(job_post).toarray()\n",
    "\n",
    "obsen_PR= obsen_M2.predict(job_post_in)\n",
    "if obsen_PR=='Legitimate ':\n",
    "  print('Not a obsence job')\n",
    "else:\n",
    "  print('Obsence job')"
   ]
  },
  {
   "cell_type": "markdown",
   "metadata": {
    "id": "AviaDq0ow9o0"
   },
   "source": [
    "### Testing with Decision tree model"
   ]
  },
  {
   "cell_type": "code",
   "execution_count": 24,
   "metadata": {
    "colab": {
     "base_uri": "https://localhost:8080/",
     "height": 74
    },
    "executionInfo": {
     "elapsed": 22,
     "status": "ok",
     "timestamp": 1692603559748,
     "user": {
      "displayName": "Jada Projects",
      "userId": "13935386077665551865"
     },
     "user_tz": -330
    },
    "id": "v7NOnLEXZjXX",
    "outputId": "2742f0a2-2547-4893-e501-9b25d46fbde8"
   },
   "outputs": [
    {
     "data": {
      "text/html": [
       "<style>#sk-container-id-3 {color: black;background-color: white;}#sk-container-id-3 pre{padding: 0;}#sk-container-id-3 div.sk-toggleable {background-color: white;}#sk-container-id-3 label.sk-toggleable__label {cursor: pointer;display: block;width: 100%;margin-bottom: 0;padding: 0.3em;box-sizing: border-box;text-align: center;}#sk-container-id-3 label.sk-toggleable__label-arrow:before {content: \"▸\";float: left;margin-right: 0.25em;color: #696969;}#sk-container-id-3 label.sk-toggleable__label-arrow:hover:before {color: black;}#sk-container-id-3 div.sk-estimator:hover label.sk-toggleable__label-arrow:before {color: black;}#sk-container-id-3 div.sk-toggleable__content {max-height: 0;max-width: 0;overflow: hidden;text-align: left;background-color: #f0f8ff;}#sk-container-id-3 div.sk-toggleable__content pre {margin: 0.2em;color: black;border-radius: 0.25em;background-color: #f0f8ff;}#sk-container-id-3 input.sk-toggleable__control:checked~div.sk-toggleable__content {max-height: 200px;max-width: 100%;overflow: auto;}#sk-container-id-3 input.sk-toggleable__control:checked~label.sk-toggleable__label-arrow:before {content: \"▾\";}#sk-container-id-3 div.sk-estimator input.sk-toggleable__control:checked~label.sk-toggleable__label {background-color: #d4ebff;}#sk-container-id-3 div.sk-label input.sk-toggleable__control:checked~label.sk-toggleable__label {background-color: #d4ebff;}#sk-container-id-3 input.sk-hidden--visually {border: 0;clip: rect(1px 1px 1px 1px);clip: rect(1px, 1px, 1px, 1px);height: 1px;margin: -1px;overflow: hidden;padding: 0;position: absolute;width: 1px;}#sk-container-id-3 div.sk-estimator {font-family: monospace;background-color: #f0f8ff;border: 1px dotted black;border-radius: 0.25em;box-sizing: border-box;margin-bottom: 0.5em;}#sk-container-id-3 div.sk-estimator:hover {background-color: #d4ebff;}#sk-container-id-3 div.sk-parallel-item::after {content: \"\";width: 100%;border-bottom: 1px solid gray;flex-grow: 1;}#sk-container-id-3 div.sk-label:hover label.sk-toggleable__label {background-color: #d4ebff;}#sk-container-id-3 div.sk-serial::before {content: \"\";position: absolute;border-left: 1px solid gray;box-sizing: border-box;top: 0;bottom: 0;left: 50%;z-index: 0;}#sk-container-id-3 div.sk-serial {display: flex;flex-direction: column;align-items: center;background-color: white;padding-right: 0.2em;padding-left: 0.2em;position: relative;}#sk-container-id-3 div.sk-item {position: relative;z-index: 1;}#sk-container-id-3 div.sk-parallel {display: flex;align-items: stretch;justify-content: center;background-color: white;position: relative;}#sk-container-id-3 div.sk-item::before, #sk-container-id-3 div.sk-parallel-item::before {content: \"\";position: absolute;border-left: 1px solid gray;box-sizing: border-box;top: 0;bottom: 0;left: 50%;z-index: -1;}#sk-container-id-3 div.sk-parallel-item {display: flex;flex-direction: column;z-index: 1;position: relative;background-color: white;}#sk-container-id-3 div.sk-parallel-item:first-child::after {align-self: flex-end;width: 50%;}#sk-container-id-3 div.sk-parallel-item:last-child::after {align-self: flex-start;width: 50%;}#sk-container-id-3 div.sk-parallel-item:only-child::after {width: 0;}#sk-container-id-3 div.sk-dashed-wrapped {border: 1px dashed gray;margin: 0 0.4em 0.5em 0.4em;box-sizing: border-box;padding-bottom: 0.4em;background-color: white;}#sk-container-id-3 div.sk-label label {font-family: monospace;font-weight: bold;display: inline-block;line-height: 1.2em;}#sk-container-id-3 div.sk-label-container {text-align: center;}#sk-container-id-3 div.sk-container {/* jupyter's `normalize.less` sets `[hidden] { display: none; }` but bootstrap.min.css set `[hidden] { display: none !important; }` so we also need the `!important` here to be able to override the default hidden behavior on the sphinx rendered scikit-learn.org. See: https://github.com/scikit-learn/scikit-learn/issues/21755 */display: inline-block !important;position: relative;}#sk-container-id-3 div.sk-text-repr-fallback {display: none;}</style><div id=\"sk-container-id-3\" class=\"sk-top-container\"><div class=\"sk-text-repr-fallback\"><pre>DecisionTreeClassifier(max_depth=1, max_features=&#x27;sqrt&#x27;)</pre><b>In a Jupyter environment, please rerun this cell to show the HTML representation or trust the notebook. <br />On GitHub, the HTML representation is unable to render, please try loading this page with nbviewer.org.</b></div><div class=\"sk-container\" hidden><div class=\"sk-item\"><div class=\"sk-estimator sk-toggleable\"><input class=\"sk-toggleable__control sk-hidden--visually\" id=\"sk-estimator-id-3\" type=\"checkbox\" checked><label for=\"sk-estimator-id-3\" class=\"sk-toggleable__label sk-toggleable__label-arrow\">DecisionTreeClassifier</label><div class=\"sk-toggleable__content\"><pre>DecisionTreeClassifier(max_depth=1, max_features=&#x27;sqrt&#x27;)</pre></div></div></div></div></div>"
      ],
      "text/plain": [
       "DecisionTreeClassifier(max_depth=1, max_features='sqrt')"
      ]
     },
     "execution_count": 24,
     "metadata": {},
     "output_type": "execute_result"
    }
   ],
   "source": [
    "from sklearn.tree import DecisionTreeClassifier as obsen_jb_DecTR\n",
    "\n",
    "obsen_M3 = obsen_jb_DecTR(max_features='sqrt', max_depth=1, criterion='gini', min_weight_fraction_leaf=0.0, splitter='best')\n",
    "obsen_M3.fit(obsen_jbX, obsen_jbY)"
   ]
  },
  {
   "cell_type": "markdown",
   "metadata": {
    "id": "q-W2Q_J9xCeG"
   },
   "source": [
    "** Test case-1"
   ]
  },
  {
   "cell_type": "code",
   "execution_count": 25,
   "metadata": {
    "colab": {
     "base_uri": "https://localhost:8080/"
    },
    "executionInfo": {
     "elapsed": 16,
     "status": "ok",
     "timestamp": 1692603562129,
     "user": {
      "displayName": "Jada Projects",
      "userId": "13935386077665551865"
     },
     "user_tz": -330
    },
    "id": "NhGb7SY5vTHP",
    "outputId": "8780fac5-738b-4be0-c019-b01d5d901332"
   },
   "outputs": [
    {
     "name": "stdout",
     "output_type": "stream",
     "text": [
      "Not a obsence job\n"
     ]
    }
   ],
   "source": [
    "# manual input for testing\n",
    "\n",
    "job_post= ['Container One is in the Shipping Container/ Shipping Container Accessory/ Portable Storage Container Industries. We specialize in the sale, rent-to-own, and modification of shipping containers for various purposes, such as storage, offices, housing, and more. And we serve 3 markets: Commercial, Residential, and Agriculture. We have simplified the ordering process through our website and ecommerce platform. Containers are in high demand and we provide all the tools you will need to have a successful career.']\n",
    "job_post_in = obsen_jb_TFVEC.transform(job_post).toarray()\n",
    "\n",
    "obsen_PR= obsen_M3.predict(job_post_in)\n",
    "if obsen_PR=='Legitimate ':\n",
    "  print('Not a obsence job')\n",
    "else:\n",
    "  print('Obsence job')"
   ]
  },
  {
   "cell_type": "markdown",
   "metadata": {
    "id": "hkYBa6D5xGxx"
   },
   "source": [
    "** Test case-2"
   ]
  },
  {
   "cell_type": "code",
   "execution_count": 27,
   "metadata": {
    "colab": {
     "base_uri": "https://localhost:8080/"
    },
    "executionInfo": {
     "elapsed": 21,
     "status": "ok",
     "timestamp": 1692603573568,
     "user": {
      "displayName": "Jada Projects",
      "userId": "13935386077665551865"
     },
     "user_tz": -330
    },
    "id": "GylXSuQUxHqD",
    "outputId": "32d34e0e-0faa-4ce6-cd3e-84162718e3b7"
   },
   "outputs": [
    {
     "name": "stdout",
     "output_type": "stream",
     "text": [
      "Obsence job\n"
     ]
    }
   ],
   "source": [
    "# manual input for testing\n",
    "\n",
    "job_post= [\"Woman wanted for a SOLO, photo/video combo shoot. The content will include explicit nude through solo penetration. Ideally looking for 18-40yrs old and either Petite or tall and athletic. No bbw/thicc/pawg. Any race welcome to apply. Location is in Wilkes-Barre, PA, with a WEEKDAY AFTERNOON call time, first week of June. Accepting apps until 5/1. Text or email. $750-$1000, approx 3-4hr. Travel expenses are covered in the total pay.\"]\n",
    "job_post_in = obsen_jb_TFVEC.transform(job_post).toarray()\n",
    "\n",
    "obsen_PR=obsen_M3.predict(job_post_in)\n",
    "if obsen_PR=='Legitimate ':\n",
    "  print('Not a obsence job')\n",
    "else:\n",
    "  print('Obsence job')"
   ]
  },
  {
   "cell_type": "markdown",
   "metadata": {
    "id": "CI9ng9mpAif4"
   },
   "source": [
    "### Testing with KNN model"
   ]
  },
  {
   "cell_type": "code",
   "execution_count": 28,
   "metadata": {
    "colab": {
     "base_uri": "https://localhost:8080/",
     "height": 74
    },
    "executionInfo": {
     "elapsed": 21,
     "status": "ok",
     "timestamp": 1692603579184,
     "user": {
      "displayName": "Jada Projects",
      "userId": "13935386077665551865"
     },
     "user_tz": -330
    },
    "id": "VPZLCQqYAjJb",
    "outputId": "4892081b-b438-4189-92ab-04ad9bec19b0"
   },
   "outputs": [
    {
     "data": {
      "text/html": [
       "<style>#sk-container-id-4 {color: black;background-color: white;}#sk-container-id-4 pre{padding: 0;}#sk-container-id-4 div.sk-toggleable {background-color: white;}#sk-container-id-4 label.sk-toggleable__label {cursor: pointer;display: block;width: 100%;margin-bottom: 0;padding: 0.3em;box-sizing: border-box;text-align: center;}#sk-container-id-4 label.sk-toggleable__label-arrow:before {content: \"▸\";float: left;margin-right: 0.25em;color: #696969;}#sk-container-id-4 label.sk-toggleable__label-arrow:hover:before {color: black;}#sk-container-id-4 div.sk-estimator:hover label.sk-toggleable__label-arrow:before {color: black;}#sk-container-id-4 div.sk-toggleable__content {max-height: 0;max-width: 0;overflow: hidden;text-align: left;background-color: #f0f8ff;}#sk-container-id-4 div.sk-toggleable__content pre {margin: 0.2em;color: black;border-radius: 0.25em;background-color: #f0f8ff;}#sk-container-id-4 input.sk-toggleable__control:checked~div.sk-toggleable__content {max-height: 200px;max-width: 100%;overflow: auto;}#sk-container-id-4 input.sk-toggleable__control:checked~label.sk-toggleable__label-arrow:before {content: \"▾\";}#sk-container-id-4 div.sk-estimator input.sk-toggleable__control:checked~label.sk-toggleable__label {background-color: #d4ebff;}#sk-container-id-4 div.sk-label input.sk-toggleable__control:checked~label.sk-toggleable__label {background-color: #d4ebff;}#sk-container-id-4 input.sk-hidden--visually {border: 0;clip: rect(1px 1px 1px 1px);clip: rect(1px, 1px, 1px, 1px);height: 1px;margin: -1px;overflow: hidden;padding: 0;position: absolute;width: 1px;}#sk-container-id-4 div.sk-estimator {font-family: monospace;background-color: #f0f8ff;border: 1px dotted black;border-radius: 0.25em;box-sizing: border-box;margin-bottom: 0.5em;}#sk-container-id-4 div.sk-estimator:hover {background-color: #d4ebff;}#sk-container-id-4 div.sk-parallel-item::after {content: \"\";width: 100%;border-bottom: 1px solid gray;flex-grow: 1;}#sk-container-id-4 div.sk-label:hover label.sk-toggleable__label {background-color: #d4ebff;}#sk-container-id-4 div.sk-serial::before {content: \"\";position: absolute;border-left: 1px solid gray;box-sizing: border-box;top: 0;bottom: 0;left: 50%;z-index: 0;}#sk-container-id-4 div.sk-serial {display: flex;flex-direction: column;align-items: center;background-color: white;padding-right: 0.2em;padding-left: 0.2em;position: relative;}#sk-container-id-4 div.sk-item {position: relative;z-index: 1;}#sk-container-id-4 div.sk-parallel {display: flex;align-items: stretch;justify-content: center;background-color: white;position: relative;}#sk-container-id-4 div.sk-item::before, #sk-container-id-4 div.sk-parallel-item::before {content: \"\";position: absolute;border-left: 1px solid gray;box-sizing: border-box;top: 0;bottom: 0;left: 50%;z-index: -1;}#sk-container-id-4 div.sk-parallel-item {display: flex;flex-direction: column;z-index: 1;position: relative;background-color: white;}#sk-container-id-4 div.sk-parallel-item:first-child::after {align-self: flex-end;width: 50%;}#sk-container-id-4 div.sk-parallel-item:last-child::after {align-self: flex-start;width: 50%;}#sk-container-id-4 div.sk-parallel-item:only-child::after {width: 0;}#sk-container-id-4 div.sk-dashed-wrapped {border: 1px dashed gray;margin: 0 0.4em 0.5em 0.4em;box-sizing: border-box;padding-bottom: 0.4em;background-color: white;}#sk-container-id-4 div.sk-label label {font-family: monospace;font-weight: bold;display: inline-block;line-height: 1.2em;}#sk-container-id-4 div.sk-label-container {text-align: center;}#sk-container-id-4 div.sk-container {/* jupyter's `normalize.less` sets `[hidden] { display: none; }` but bootstrap.min.css set `[hidden] { display: none !important; }` so we also need the `!important` here to be able to override the default hidden behavior on the sphinx rendered scikit-learn.org. See: https://github.com/scikit-learn/scikit-learn/issues/21755 */display: inline-block !important;position: relative;}#sk-container-id-4 div.sk-text-repr-fallback {display: none;}</style><div id=\"sk-container-id-4\" class=\"sk-top-container\"><div class=\"sk-text-repr-fallback\"><pre>KNeighborsClassifier(n_neighbors=1)</pre><b>In a Jupyter environment, please rerun this cell to show the HTML representation or trust the notebook. <br />On GitHub, the HTML representation is unable to render, please try loading this page with nbviewer.org.</b></div><div class=\"sk-container\" hidden><div class=\"sk-item\"><div class=\"sk-estimator sk-toggleable\"><input class=\"sk-toggleable__control sk-hidden--visually\" id=\"sk-estimator-id-4\" type=\"checkbox\" checked><label for=\"sk-estimator-id-4\" class=\"sk-toggleable__label sk-toggleable__label-arrow\">KNeighborsClassifier</label><div class=\"sk-toggleable__content\"><pre>KNeighborsClassifier(n_neighbors=1)</pre></div></div></div></div></div>"
      ],
      "text/plain": [
       "KNeighborsClassifier(n_neighbors=1)"
      ]
     },
     "execution_count": 28,
     "metadata": {},
     "output_type": "execute_result"
    }
   ],
   "source": [
    "from sklearn.neighbors import KNeighborsClassifier as obsen_jb_KNeighC\n",
    "\n",
    "obsen_M4 = obsen_jb_KNeighC(algorithm='auto', metric='minkowski', n_neighbors=1, weights='uniform')\n",
    "obsen_M4.fit(obsen_jbX, obsen_jbY)"
   ]
  },
  {
   "cell_type": "markdown",
   "metadata": {
    "id": "-XREspmIAv3J"
   },
   "source": [
    "** Test case-1"
   ]
  },
  {
   "cell_type": "code",
   "execution_count": 29,
   "metadata": {
    "colab": {
     "base_uri": "https://localhost:8080/"
    },
    "executionInfo": {
     "elapsed": 735,
     "status": "ok",
     "timestamp": 1692603586214,
     "user": {
      "displayName": "Jada Projects",
      "userId": "13935386077665551865"
     },
     "user_tz": -330
    },
    "id": "PnFeuN4lAjN3",
    "outputId": "6f336254-6f7a-4531-abee-db37c01a3234"
   },
   "outputs": [
    {
     "name": "stdout",
     "output_type": "stream",
     "text": [
      "Not a obsence job\n"
     ]
    }
   ],
   "source": [
    "# manual input for testing\n",
    "\n",
    "job_post= ['Container One is in the Shipping Container/ Shipping Container Accessory/ Portable Storage Container Industries. We specialize in the sale, rent-to-own, and modification of shipping containers for various purposes, such as storage, offices, housing, and more. And we serve 3 markets: Commercial, Residential, and Agriculture. We have simplified the ordering process through our website and ecommerce platform. Containers are in high demand and we provide all the tools you will need to have a successful career.']\n",
    "job_post_in = obsen_jb_TFVEC.transform(job_post).toarray()\n",
    "\n",
    "obsen_PR= obsen_M4.predict(job_post_in)\n",
    "if obsen_PR=='Legitimate ':\n",
    "  print('Not a obsence job')\n",
    "else:\n",
    "  print('Obsence job')"
   ]
  },
  {
   "cell_type": "markdown",
   "metadata": {
    "id": "9rQxzzXaAwqe"
   },
   "source": [
    "** Test case-2"
   ]
  },
  {
   "cell_type": "code",
   "execution_count": 34,
   "metadata": {
    "colab": {
     "base_uri": "https://localhost:8080/"
    },
    "executionInfo": {
     "elapsed": 21,
     "status": "ok",
     "timestamp": 1692603623568,
     "user": {
      "displayName": "Jada Projects",
      "userId": "13935386077665551865"
     },
     "user_tz": -330
    },
    "id": "168W7zvZAjRA",
    "outputId": "a0b38cd4-4082-4d29-ccd4-c27360c6f6b4"
   },
   "outputs": [
    {
     "name": "stdout",
     "output_type": "stream",
     "text": [
      "Not a obsence job\n"
     ]
    }
   ],
   "source": [
    "# manual input for testing\n",
    "\n",
    "job_post= [\"I am shooting silk scarf bondage and fetish themes. Working solo to full nude adult erotic levels. Male and female models. I will be shooting out of a hotel. Shoot theme is scarves. Check my insta for some examples scarf.queens or my site. I am only available until 3 April. Please get in touch with your rates if you are interested in working with me on this shoot.\"]\n",
    "job_post_in = obsen_jb_TFVEC.transform(job_post).toarray()\n",
    "\n",
    "obsen_PR=obsen_M4.predict(job_post_in)\n",
    "if obsen_PR=='Legitimate ':\n",
    "  print('Not a obsence job')\n",
    "else:\n",
    "  print('Obsence job')"
   ]
  }
 ],
 "metadata": {
  "colab": {
   "authorship_tag": "ABX9TyM0E6S1pWs52f7DkcpwxizA",
   "mount_file_id": "1SBr6DRXseDauj6sQjXjTcKREBTbJ6GI2",
   "provenance": []
  },
  "kernelspec": {
   "display_name": "Python 3 (ipykernel)",
   "language": "python",
   "name": "python3"
  },
  "language_info": {
   "codemirror_mode": {
    "name": "ipython",
    "version": 3
   },
   "file_extension": ".py",
   "mimetype": "text/x-python",
   "name": "python",
   "nbconvert_exporter": "python",
   "pygments_lexer": "ipython3",
   "version": "3.9.13"
  }
 },
 "nbformat": 4,
 "nbformat_minor": 1
}
